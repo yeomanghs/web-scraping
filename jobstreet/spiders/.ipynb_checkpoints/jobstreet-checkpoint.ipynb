{
 "cells": [
  {
   "cell_type": "code",
   "execution_count": 15,
   "metadata": {},
   "outputs": [
    {
     "name": "stdout",
     "output_type": "stream",
     "text": [
      "Overwriting jobspider.py\n"
     ]
    }
   ],
   "source": [
    "%%writefile jobspider.py\n",
    "from jobstreet.items import Job\n",
    "import scrapy\n",
    "import re\n",
    "\n",
    "class tutorial(scrapy.Spider):\n",
    "    name = \"job\"\n",
    "    allowed_domain = [\"jobstreet.com\"]\n",
    "    start_urls= [\"https://www.jobstreet.com.my/en/job-search/job-vacancy.php?key=&location=50300&specialization=&area=&salary=&ojs=3&src=12\"]\n",
    "\n",
    "    def parse(self,response):\n",
    "        #jobinfo = Job()\n",
    "        #position = response.xpath('//h2/text()').extract()\n",
    "        #companyName = response.xpath('//span[@itemprop = \"name\"]/text()').extract()\n",
    "        link = response.xpath('//a[@class = \"position-title-link\"]/@href').extract()\n",
    "        #for i in zip(position,companyName):\n",
    "        #    jobinfo['position'] = i[0]\n",
    "        #    jobinfo['companyName'] = i[1]\n",
    "        #    yield jobinfo\n",
    "        for i in link:\n",
    "            jobinfo = Job()\n",
    "            request = scrapy.Request(i,callback = self.parseDetails)\n",
    "            request.meta['job'] = jobinfo\n",
    "            yield request\n",
    "\n",
    "    def parseDetails(self,response):\n",
    "        jobinfo = response.meta['job']\n",
    "        jobinfo['position'] = response.xpath('//h1[@id = \"position_title\"]/text()').extract()\n",
    "        jobinfo['companyName'] = response.xpath('//div[@id = \"company_name\"]/a/text()').extract()\n",
    "        jobinfo['address'] = response.xpath('//p[@id = \"address\"]/text()').extract()\n",
    "        jobinfo['industry'] = response.xpath('//p[@id = \"company_industry\"]/text()').extract()\n",
    "        jobinfo['companySize'] = response.xpath('//p[@id = \"company_size\"]/text()').extract()\n",
    "        yield jobinfo"
   ]
  },
  {
   "cell_type": "code",
   "execution_count": 6,
   "metadata": {},
   "outputs": [
    {
     "name": "stdout",
     "output_type": "stream",
     "text": [
      "Writing exporters.py\n"
     ]
    }
   ],
   "source": [
    "%%writefile exporters.py\n",
    "from scrapy.conf import settings\n",
    "from scrapy.contrib.exporter import CsvItemExporter\n",
    "\n",
    "\n",
    "class FixCsvItemExporter(CsvItemExporter):\n",
    "\n",
    "    def __init__(self, *args, **kwargs):\n",
    "        newline = settings.get('CSV_NEWLINE', '')\n",
    "        kwargs['newline'] = newline\n",
    "        super(FixCsvItemExporter, self).__init__(*args, **kwargs)"
   ]
  },
  {
   "cell_type": "code",
   "execution_count": null,
   "metadata": {},
   "outputs": [],
   "source": []
  }
 ],
 "metadata": {
  "kernelspec": {
   "display_name": "Python 3",
   "language": "python",
   "name": "python3"
  },
  "language_info": {
   "codemirror_mode": {
    "name": "ipython",
    "version": 3
   },
   "file_extension": ".py",
   "mimetype": "text/x-python",
   "name": "python",
   "nbconvert_exporter": "python",
   "pygments_lexer": "ipython3",
   "version": "3.6.5"
  }
 },
 "nbformat": 4,
 "nbformat_minor": 2
}
