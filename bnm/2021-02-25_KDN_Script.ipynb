{
 "cells": [
  {
   "cell_type": "markdown",
   "metadata": {},
   "source": [
    "### Modules"
   ]
  },
  {
   "cell_type": "code",
   "execution_count": 6,
   "metadata": {},
   "outputs": [],
   "source": [
    "import requests\n",
    "from bs4 import BeautifulSoup\n",
    "import re\n",
    "import time\n",
    "from datetime import datetime\n",
    "import pandas as pd"
   ]
  },
  {
   "cell_type": "markdown",
   "metadata": {},
   "source": [
    "### Predefine parameters"
   ]
  },
  {
   "cell_type": "code",
   "execution_count": 2,
   "metadata": {},
   "outputs": [],
   "source": [
    "url = \"http://www.moha.gov.my/index.php/ms/kdn1/dir-kdn\""
   ]
  },
  {
   "cell_type": "markdown",
   "metadata": {},
   "source": [
    "### Start"
   ]
  },
  {
   "cell_type": "code",
   "execution_count": 8,
   "metadata": {},
   "outputs": [
    {
     "name": "stdout",
     "output_type": "stream",
     "text": [
      "Estimated time: 0:02:04.862529\n"
     ]
    }
   ],
   "source": [
    "#main content\n",
    "start = datetime.now()\n",
    "content = requests.get(url)\n",
    "bsContent = BeautifulSoup(content.text, 'html.parser')\n",
    "\n",
    "#section and href list\n",
    "sectionList = [re.sub(\"\\n|\\t\", \"\", i.a.get_text()) for i in bsContent.findAll(\"h3\", {'class' : \"page-header item-title\"})]\n",
    "hrefList = [i.a['href'] for i in bsContent.findAll(\"h3\", {'class' : \"page-header item-title\"})]\n",
    "\n",
    "pandaList = []\n",
    "for no, link in enumerate(hrefList):\n",
    "    time.sleep(3)\n",
    "    tempDict = {}\n",
    "    urlEx = \"http://www.moha.gov.my\" + link\n",
    "    content2 = requests.get(urlEx, verify=False)\n",
    "    bsContent2 = BeautifulSoup(content2.text, 'html.parser')\n",
    "    \n",
    "    allA = [i.a for i in bsContent2.find_all(\"li\") if i.a]\n",
    "    nameList = [re.sub(\"\\n|\\t\", \"\", i.get_text()).strip() for i in allA if re.search(re.escape(link + '/'), i['href'])]\n",
    "    phoneList = [re.sub(\"\\n|\\t\", \"\", i.get_text()) for i in bsContent2.findAll(\"div\", {\"class\": \"span3 col-md-3\"})]\n",
    "    \n",
    "    tempDict['Section'] = sectionList[no]\n",
    "    tempDict['Name'] = nameList\n",
    "    tempDict['Phone'] = phoneList\n",
    "    df = pd.DataFrame(tempDict)\n",
    "    pandaList.append(df)\n",
    "\n",
    "#concat df and save csv\n",
    "dfResult = pd.concat(pandaList).reset_index()\n",
    "del dfResult['index']\n",
    "\n",
    "csvFile = \"2021-02-25_KDN.csv\"\n",
    "dfResult.to_csv(csvFile, index = False)\n",
    "time = datetime.now() - start\n",
    "print(\"Estimated time: %s\"%time)"
   ]
  },
  {
   "cell_type": "code",
   "execution_count": 10,
   "metadata": {
    "collapsed": true
   },
   "outputs": [
    {
     "data": {
      "text/plain": [
       "array(['Pejabat Menteri ', 'Pejabat Timbalan Menteri',\n",
       "       'Pejabat Timbalan Menteri II', 'Pejabat Ketua Setiausaha',\n",
       "       'Pejabat Timbalan Ketua Setiausaha (Keselamatan)',\n",
       "       'Pejabat Timbalan Ketua Setiausaha (Pengurusan)',\n",
       "       'Pejabat Timbalan Ketua Setiausaha (Dasar dan Kawalan)',\n",
       "       'Agensi Kawalan Sempadan Malaysia (AKSEM)', 'Bahagian Keselamatan',\n",
       "       'Bahagian Penguatkuasaan dan Kawalan',\n",
       "       'Bahagian Pengurusan Pekerja Asing',\n",
       "       'Bahagian Pengurusan Teknologi Maklumat',\n",
       "       'Bahagian Pengurusan Sumber Manusia', 'Bahagian Antarabangsa',\n",
       "       'Bahagian Kepenjaraan, Antidadah dan RELA',\n",
       "       'Pejabat Penasihat Undang-Undang', 'Bahagian Audit Dalam',\n",
       "       'Bahagian Khidmat Pengurusan dan Aset',\n",
       "       'Bahagian Hal Ehwal Imigresen',\n",
       "       'Pejabat Strategik Nasional (NSO) MAPO',\n",
       "       'Unit Komunikasi Korporat', 'Bahagian Parlimen dan Kabinet',\n",
       "       'Bahagian Perancangan Strategik', 'Bahagian Pembangunan',\n",
       "       'Bahagian Kewangan', 'Pejabat Penapis Filem ', 'Bahagian Akaun',\n",
       "       'Bahagian Perolehan', 'Bahagian Pendaftaran Negara dan Pertubuhan',\n",
       "       'Institut Keselamatan Awam Malaysia', 'Suruhanjaya Pasukan Polis',\n",
       "       'Unit Integriti', 'Urus Setia Lembaga Parol',\n",
       "       'Urusetia Lembaga Pencegahan Jenayah & Keganasan',\n",
       "       'Pejabat Pasukan Petugas Khas NIISe'], dtype=object)"
      ]
     },
     "execution_count": 10,
     "metadata": {},
     "output_type": "execute_result"
    }
   ],
   "source": [
    "dfResult['Section'].unique()"
   ]
  },
  {
   "cell_type": "code",
   "execution_count": null,
   "metadata": {},
   "outputs": [],
   "source": []
  }
 ],
 "metadata": {
  "kernelspec": {
   "display_name": "Python 3",
   "language": "python",
   "name": "python3"
  },
  "language_info": {
   "codemirror_mode": {
    "name": "ipython",
    "version": 3
   },
   "file_extension": ".py",
   "mimetype": "text/x-python",
   "name": "python",
   "nbconvert_exporter": "python",
   "pygments_lexer": "ipython3",
   "version": "3.7.6"
  }
 },
 "nbformat": 4,
 "nbformat_minor": 4
}
